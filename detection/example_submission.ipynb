{
 "cells": [
  {
   "cell_type": "code",
   "execution_count": 1,
   "metadata": {},
   "outputs": [],
   "source": [
    "import torch\n",
    "import os\n",
    "import json\n",
    "from tqdm.notebook import tqdm\n",
    "import numpy as np\n",
    "import matplotlib.pyplot as plt\n",
    "from torch import nn\n",
    "import torch.nn.functional as F\n",
    "import torch.backends.cudnn as cudnn\n",
    "cudnn.benchmark = True  # fire on all cylinders\n",
    "from sklearn.metrics import roc_auc_score, roc_curve\n",
    "import sys\n",
    "\n",
    "sys.path.insert(0, '..')"
   ]
  },
  {
   "cell_type": "markdown",
   "metadata": {},
   "source": [
    "## Create the dataset class"
   ]
  },
  {
   "cell_type": "code",
   "execution_count": 2,
   "metadata": {},
   "outputs": [],
   "source": [
    "class NetworkDatasetDetection(torch.utils.data.Dataset):\n",
    "    def __init__(self, model_folder):\n",
    "        super().__init__()\n",
    "        model_paths = []\n",
    "        model_paths.extend([os.path.join(model_folder, 'clean', x) \\\n",
    "                            for x in sorted(os.listdir(os.path.join(model_folder, 'clean')))])\n",
    "        model_paths.extend([os.path.join(model_folder, 'trojan', x) \\\n",
    "                            for x in sorted(os.listdir(os.path.join(model_folder, 'trojan')))])\n",
    "        labels = []\n",
    "        data_sources = []\n",
    "        for p in model_paths:\n",
    "            with open(os.path.join(p, 'info.json'), 'r') as f:\n",
    "                info = json.load(f)\n",
    "                data_sources.append(info['dataset'])\n",
    "            if p.split('/')[-2] == 'clean':\n",
    "                labels.append(0)\n",
    "            elif p.split('/')[-2] == 'trojan':\n",
    "                labels.append(1)\n",
    "            else:\n",
    "                raise ValueError('unexpected path {}'.format(p))\n",
    "        self.model_paths = model_paths\n",
    "        self.labels = labels\n",
    "        self.data_sources = data_sources\n",
    "    \n",
    "    def __len__(self):\n",
    "        return len(self.model_paths)\n",
    "    \n",
    "    def __getitem__(self, index):\n",
    "        return torch.load(os.path.join(self.model_paths[index], 'model.pt')), \\\n",
    "               self.labels[index], self.data_sources[index]\n",
    "\n",
    "def custom_collate(batch):\n",
    "    return [x[0] for x in batch], [x[1] for x in batch], [x[2] for x in batch]"
   ]
  },
  {
   "cell_type": "markdown",
   "metadata": {},
   "source": [
    "## Load data\n",
    "Spliting off a validation set from the train set for testing purposes."
   ]
  },
  {
   "cell_type": "code",
   "execution_count": 3,
   "metadata": {},
   "outputs": [],
   "source": [
    "dataset_path = '../../tdc_datasets'\n",
    "task = 'detection'\n",
    "dataset = NetworkDatasetDetection(os.path.join(dataset_path, task, 'train'))\n",
    "\n",
    "split = int(len(dataset) * 0.8)\n",
    "rnd_idx = np.random.permutation(len(dataset))\n",
    "train_dataset = torch.utils.data.Subset(dataset, rnd_idx[:split])\n",
    "val_dataset = torch.utils.data.Subset(dataset, rnd_idx[split:])\n",
    "\n",
    "train_loader = torch.utils.data.DataLoader(train_dataset, batch_size=1, shuffle=True,\n",
    "                                           num_workers=0, pin_memory=False, collate_fn=custom_collate)\n",
    "val_loader = torch.utils.data.DataLoader(val_dataset, batch_size=1,\n",
    "                                           num_workers=0, pin_memory=False, collate_fn=custom_collate)"
   ]
  },
  {
   "cell_type": "markdown",
   "metadata": {},
   "source": [
    "## Construct the MNTD network"
   ]
  },
  {
   "cell_type": "code",
   "execution_count": 4,
   "metadata": {},
   "outputs": [],
   "source": [
    "data_sources = ['CIFAR-10', 'CIFAR-100', 'GTSRB', 'MNIST']\n",
    "data_source_to_channel = {k: 1 if k == 'MNIST' else 3 for k in data_sources}\n",
    "data_source_to_resolution = {k: 28 if k == 'MNIST' else 32 for k in data_sources}\n",
    "data_source_to_num_classes = {'CIFAR-10': 10, 'CIFAR-100': 100, 'GTSRB': 43, 'MNIST': 10}\n",
    "\n",
    "class MetaNetwork(nn.Module):\n",
    "    def __init__(self, num_queries, num_classes=1):\n",
    "        super().__init__()\n",
    "        self.queries = nn.ParameterDict(\n",
    "            {k: nn.Parameter(torch.rand(num_queries,\n",
    "                                        data_source_to_channel[k],\n",
    "                                        data_source_to_resolution[k],\n",
    "                                        data_source_to_resolution[k])) for k in data_sources}\n",
    "        )\n",
    "        self.affines = nn.ModuleDict(\n",
    "            {k: nn.Linear(data_source_to_num_classes[k]*num_queries, 32) for k in data_sources}\n",
    "        )\n",
    "        self.norm = nn.LayerNorm(32)\n",
    "        self.relu = nn.ReLU(True)\n",
    "        self.final_output = nn.Linear(32, num_classes)\n",
    "    \n",
    "    def forward(self, net, data_source):\n",
    "        \"\"\"\n",
    "        :param net: an input network of one of the model_types specified at init\n",
    "        :param data_source: the name of the data source\n",
    "        :returns: a score for whether the network is a Trojan or not\n",
    "        \"\"\"\n",
    "        query = self.queries[data_source]\n",
    "        out = net(query)\n",
    "        out = self.affines[data_source](out.view(1, -1))\n",
    "        out = self.norm(out)\n",
    "        out = self.relu(out)\n",
    "        return self.final_output(out)"
   ]
  },
  {
   "cell_type": "markdown",
   "metadata": {},
   "source": [
    "## Train the network"
   ]
  },
  {
   "cell_type": "code",
   "execution_count": 5,
   "metadata": {},
   "outputs": [
    {
     "data": {
      "application/vnd.jupyter.widget-view+json": {
       "model_id": "ec0eb4aae87b4775aa05d8cf41b56c5f",
       "version_major": 2,
       "version_minor": 0
      },
      "text/plain": [
       "  0%|          | 0/800 [00:00<?, ?it/s]"
      ]
     },
     "metadata": {},
     "output_type": "display_data"
    },
    {
     "data": {
      "application/vnd.jupyter.widget-view+json": {
       "model_id": "b03cc35ff6164033bea3b0e7ddccc9bf",
       "version_major": 2,
       "version_minor": 0
      },
      "text/plain": [
       "  0%|          | 0/800 [00:00<?, ?it/s]"
      ]
     },
     "metadata": {},
     "output_type": "display_data"
    },
    {
     "data": {
      "application/vnd.jupyter.widget-view+json": {
       "model_id": "7b9a0bcbd4164ab0a7f8ae6db774cd7b",
       "version_major": 2,
       "version_minor": 0
      },
      "text/plain": [
       "  0%|          | 0/800 [00:00<?, ?it/s]"
      ]
     },
     "metadata": {},
     "output_type": "display_data"
    },
    {
     "data": {
      "application/vnd.jupyter.widget-view+json": {
       "model_id": "c6d4b2f96cf242859ee9c000c009b303",
       "version_major": 2,
       "version_minor": 0
      },
      "text/plain": [
       "  0%|          | 0/800 [00:00<?, ?it/s]"
      ]
     },
     "metadata": {},
     "output_type": "display_data"
    },
    {
     "data": {
      "application/vnd.jupyter.widget-view+json": {
       "model_id": "d3e0f20b656d4a5781f0bb62f5c9d918",
       "version_major": 2,
       "version_minor": 0
      },
      "text/plain": [
       "  0%|          | 0/800 [00:00<?, ?it/s]"
      ]
     },
     "metadata": {},
     "output_type": "display_data"
    },
    {
     "data": {
      "application/vnd.jupyter.widget-view+json": {
       "model_id": "e59e229107e5482fbd2bee5727d2a751",
       "version_major": 2,
       "version_minor": 0
      },
      "text/plain": [
       "  0%|          | 0/800 [00:00<?, ?it/s]"
      ]
     },
     "metadata": {},
     "output_type": "display_data"
    },
    {
     "data": {
      "application/vnd.jupyter.widget-view+json": {
       "model_id": "935501ff4a774bd68eca96e653c175c3",
       "version_major": 2,
       "version_minor": 0
      },
      "text/plain": [
       "  0%|          | 0/800 [00:00<?, ?it/s]"
      ]
     },
     "metadata": {},
     "output_type": "display_data"
    },
    {
     "data": {
      "application/vnd.jupyter.widget-view+json": {
       "model_id": "29c0e08308fe4d17a1135c6f9def479c",
       "version_major": 2,
       "version_minor": 0
      },
      "text/plain": [
       "  0%|          | 0/800 [00:00<?, ?it/s]"
      ]
     },
     "metadata": {},
     "output_type": "display_data"
    },
    {
     "data": {
      "application/vnd.jupyter.widget-view+json": {
       "model_id": "b320ed1bee184d04bfe7fa92906e690f",
       "version_major": 2,
       "version_minor": 0
      },
      "text/plain": [
       "  0%|          | 0/800 [00:00<?, ?it/s]"
      ]
     },
     "metadata": {},
     "output_type": "display_data"
    },
    {
     "data": {
      "application/vnd.jupyter.widget-view+json": {
       "model_id": "62569d40a5e141dfae3c0981a6039ea0",
       "version_major": 2,
       "version_minor": 0
      },
      "text/plain": [
       "  0%|          | 0/800 [00:00<?, ?it/s]"
      ]
     },
     "metadata": {},
     "output_type": "display_data"
    }
   ],
   "source": [
    "meta_network = MetaNetwork(10, num_classes=1).cuda().train()\n",
    "\n",
    "num_epochs = 10\n",
    "lr = 0.01\n",
    "weight_decay = 0.\n",
    "optimizer = torch.optim.Adam(meta_network.parameters(), lr=lr, weight_decay=weight_decay)\n",
    "scheduler = torch.optim.lr_scheduler.CosineAnnealingLR(optimizer, num_epochs * len(train_dataset))\n",
    "\n",
    "loss_ema = np.inf\n",
    "for epoch in range(num_epochs):\n",
    "    \n",
    "    pbar = tqdm(train_loader)\n",
    "    pbar.set_description(f\"Epoch {epoch + 1}\")\n",
    "    for i, (net, label, data_source) in enumerate(pbar):\n",
    "        net = net[0]\n",
    "        label = label[0]\n",
    "        data_source = data_source[0]\n",
    "        net.cuda().eval()\n",
    "        \n",
    "        out = meta_network(net, data_source)\n",
    "        \n",
    "        loss = F.binary_cross_entropy_with_logits(out, torch.FloatTensor([label]).unsqueeze(0).cuda())\n",
    "        \n",
    "        optimizer.zero_grad()\n",
    "        loss.backward(inputs=list(meta_network.parameters()))\n",
    "        optimizer.step()\n",
    "        scheduler.step()\n",
    "        for k in meta_network.queries.keys():\n",
    "            meta_network.queries[k].data = meta_network.queries[k].data.clamp(0, 1)\n",
    "        loss_ema = loss.item() if loss_ema == np.inf else 0.95 * loss_ema + 0.05 * loss.item()\n",
    "\n",
    "        pbar.set_postfix(loss=loss_ema)"
   ]
  },
  {
   "cell_type": "code",
   "execution_count": 6,
   "metadata": {},
   "outputs": [
    {
     "data": {
      "text/plain": [
       "MetaNetwork(\n",
       "  (queries): ParameterDict(\n",
       "      (CIFAR-10): Parameter containing: [torch.cuda.FloatTensor of size 10x3x32x32 (GPU 0)]\n",
       "      (CIFAR-100): Parameter containing: [torch.cuda.FloatTensor of size 10x3x32x32 (GPU 0)]\n",
       "      (GTSRB): Parameter containing: [torch.cuda.FloatTensor of size 10x3x32x32 (GPU 0)]\n",
       "      (MNIST): Parameter containing: [torch.cuda.FloatTensor of size 10x1x28x28 (GPU 0)]\n",
       "  )\n",
       "  (affines): ModuleDict(\n",
       "    (CIFAR-10): Linear(in_features=100, out_features=32, bias=True)\n",
       "    (CIFAR-100): Linear(in_features=1000, out_features=32, bias=True)\n",
       "    (GTSRB): Linear(in_features=430, out_features=32, bias=True)\n",
       "    (MNIST): Linear(in_features=100, out_features=32, bias=True)\n",
       "  )\n",
       "  (norm): LayerNorm((32,), eps=1e-05, elementwise_affine=True)\n",
       "  (relu): ReLU(inplace=True)\n",
       "  (final_output): Linear(in_features=32, out_features=1, bias=True)\n",
       ")"
      ]
     },
     "execution_count": 6,
     "metadata": {},
     "output_type": "execute_result"
    }
   ],
   "source": [
    "meta_network.eval()"
   ]
  },
  {
   "cell_type": "markdown",
   "metadata": {},
   "source": [
    "## Evaluate the network"
   ]
  },
  {
   "cell_type": "code",
   "execution_count": 7,
   "metadata": {},
   "outputs": [],
   "source": [
    "def evaluate(meta_network, loader):\n",
    "    loss_list = []\n",
    "    correct_list = []\n",
    "    confusion_matrix = torch.zeros(2,2)\n",
    "    all_scores = []\n",
    "    all_labels = []\n",
    "    \n",
    "    for i, (net, label, data_source) in enumerate(tqdm(loader)):\n",
    "        net[0].cuda().eval()\n",
    "        with torch.no_grad():\n",
    "            out = meta_network(net[0], data_source[0])\n",
    "        loss = F.binary_cross_entropy_with_logits(out, torch.FloatTensor([label[0]]).unsqueeze(0).cuda())\n",
    "        correct = int((out.squeeze() > 0).int().item() == label[0])\n",
    "        loss_list.append(loss.item())\n",
    "        correct_list.append(correct)\n",
    "        confusion_matrix[(out.squeeze() > 0).int().item(), label[0]] += 1\n",
    "        all_scores.append(out.squeeze().item())\n",
    "        all_labels.append(label[0])\n",
    "    \n",
    "    return np.mean(loss_list), np.mean(correct_list), confusion_matrix, all_labels, all_scores"
   ]
  },
  {
   "cell_type": "code",
   "execution_count": 8,
   "metadata": {},
   "outputs": [
    {
     "data": {
      "application/vnd.jupyter.widget-view+json": {
       "model_id": "fe7dfccfbebd42aeafea9a063e898545",
       "version_major": 2,
       "version_minor": 0
      },
      "text/plain": [
       "  0%|          | 0/800 [00:00<?, ?it/s]"
      ]
     },
     "metadata": {},
     "output_type": "display_data"
    },
    {
     "name": "stdout",
     "output_type": "stream",
     "text": [
      "Train Loss: 0.009, Train Accuracy: 99.75\n",
      "Confusion Matrix:\n",
      " [[387.   2.]\n",
      " [  0. 411.]]\n"
     ]
    }
   ],
   "source": [
    "loss, acc, cmat, _, _ = evaluate(meta_network, train_loader)\n",
    "print(f'Train Loss: {loss:.3f}, Train Accuracy: {acc*100:.2f}')\n",
    "print('Confusion Matrix:\\n', cmat.numpy())"
   ]
  },
  {
   "cell_type": "code",
   "execution_count": 9,
   "metadata": {},
   "outputs": [
    {
     "data": {
      "application/vnd.jupyter.widget-view+json": {
       "model_id": "604bb3341b3f4f9e994467fa325ca08e",
       "version_major": 2,
       "version_minor": 0
      },
      "text/plain": [
       "  0%|          | 0/200 [00:00<?, ?it/s]"
      ]
     },
     "metadata": {},
     "output_type": "display_data"
    },
    {
     "name": "stdout",
     "output_type": "stream",
     "text": [
      "Val Loss: 1.497, Val Accuracy: 61.00\n",
      "Confusion Matrix:\n",
      " [[75. 40.]\n",
      " [38. 47.]]\n"
     ]
    }
   ],
   "source": [
    "loss, acc, cmat, all_labels, all_preds = evaluate(meta_network, val_loader)\n",
    "print(f'Val Loss: {loss:.3f}, Val Accuracy: {acc*100:.2f}')\n",
    "print('Confusion Matrix:\\n', cmat.numpy())"
   ]
  },
  {
   "cell_type": "code",
   "execution_count": 10,
   "metadata": {},
   "outputs": [
    {
     "name": "stdout",
     "output_type": "stream",
     "text": [
      "Val AUROC: 0.650\n"
     ]
    }
   ],
   "source": [
    "print(f'Val AUROC: {roc_auc_score(all_labels, all_preds):.3f}')"
   ]
  },
  {
   "cell_type": "markdown",
   "metadata": {},
   "source": [
    "## Make submission"
   ]
  },
  {
   "cell_type": "code",
   "execution_count": 26,
   "metadata": {},
   "outputs": [],
   "source": [
    "# Dataset class for the validation/test sets, which contain all networks in a single folder\n",
    "\n",
    "class NetworkDatasetDetectionTest(torch.utils.data.Dataset):\n",
    "    def __init__(self, model_folder):\n",
    "        super().__init__()\n",
    "        model_paths = [os.path.join(model_folder, x) for x in sorted(os.listdir(os.path.join(model_folder)))]\n",
    "        data_sources = []\n",
    "        for model_path in model_paths:\n",
    "            with open(os.path.join(model_path, 'info.json'), 'r') as f:\n",
    "                info = json.load(f)\n",
    "                data_sources.append(info['dataset'])\n",
    "        self.model_paths = model_paths\n",
    "        self.data_sources = data_sources\n",
    "    \n",
    "    def __len__(self):\n",
    "        return len(self.model_paths)\n",
    "    \n",
    "    def __getitem__(self, index):\n",
    "        return torch.load(os.path.join(self.model_paths[index], 'model.pt')), self.data_sources[index]\n",
    "\n",
    "def custom_collate(batch):\n",
    "    return [x[0] for x in batch], [x[1] for x in batch]"
   ]
  },
  {
   "cell_type": "code",
   "execution_count": 27,
   "metadata": {},
   "outputs": [],
   "source": [
    "dataset_path = '../../tdc_datasets'\n",
    "task = 'detection'\n",
    "\n",
    "test_dataset = NetworkDatasetDetectionTest(os.path.join(dataset_path, task, 'val'))\n",
    "test_loader = torch.utils.data.DataLoader(test_dataset, batch_size=1, shuffle=False,\n",
    "                                          num_workers=0, pin_memory=False, collate_fn=custom_collate)"
   ]
  },
  {
   "cell_type": "code",
   "execution_count": 28,
   "metadata": {},
   "outputs": [],
   "source": [
    "def predict(meta_network, loader):\n",
    "    \n",
    "    all_scores = []\n",
    "    for i, (net, data_source) in enumerate(tqdm(loader)):\n",
    "        net[0].cuda().eval()\n",
    "        with torch.no_grad():\n",
    "            out = meta_network(net[0], data_source[0])\n",
    "        all_scores.append(out.squeeze().item())\n",
    "    \n",
    "    return all_scores"
   ]
  },
  {
   "cell_type": "code",
   "execution_count": 29,
   "metadata": {
    "scrolled": true
   },
   "outputs": [
    {
     "data": {
      "application/vnd.jupyter.widget-view+json": {
       "model_id": "8e75565e40e74566bce7a069db67dae5",
       "version_major": 2,
       "version_minor": 0
      },
      "text/plain": [
       "  0%|          | 0/1000 [00:00<?, ?it/s]"
      ]
     },
     "metadata": {},
     "output_type": "display_data"
    }
   ],
   "source": [
    "scores = predict(meta_network, test_loader)"
   ]
  },
  {
   "cell_type": "code",
   "execution_count": 30,
   "metadata": {},
   "outputs": [
    {
     "name": "stdout",
     "output_type": "stream",
     "text": [
      "updating: predictions.npy (deflated 42%)\r\n"
     ]
    }
   ],
   "source": [
    "if not os.path.exists('mntd_submission'):\n",
    "    os.makedirs('mntd_submission')\n",
    "\n",
    "with open(os.path.join('mntd_submission', 'predictions.npy'), 'wb') as f:\n",
    "    np.save(f, np.array(scores))\n",
    "\n",
    "!cd mntd_submission && zip ../mntd_submission.zip ./* && cd .."
   ]
  },
  {
   "cell_type": "code",
   "execution_count": 31,
   "metadata": {},
   "outputs": [
    {
     "name": "stdout",
     "output_type": "stream",
     "text": [
      "example_submission.ipynb  mntd_submission  mntd_submission.zip\tREADME.md\r\n"
     ]
    }
   ],
   "source": [
    "!ls"
   ]
  }
 ],
 "metadata": {
  "kernelspec": {
   "display_name": "Python 3.8 (ipykernel)",
   "language": "python",
   "name": "python3"
  },
  "language_info": {
   "codemirror_mode": {
    "name": "ipython",
    "version": 3
   },
   "file_extension": ".py",
   "mimetype": "text/x-python",
   "name": "python",
   "nbconvert_exporter": "python",
   "pygments_lexer": "ipython3",
   "version": "3.8.3"
  },
  "vscode": {
   "interpreter": {
    "hash": "cfe34a9389bfb9158f4a57d38254999ecb4846a6b929cd8c17eb23c1b8c530ae"
   }
  }
 },
 "nbformat": 4,
 "nbformat_minor": 2
}
